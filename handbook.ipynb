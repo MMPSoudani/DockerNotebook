{
 "cells": [
  {
   "attachments": {},
   "cell_type": "markdown",
   "metadata": {},
   "source": [
    "# 1. Introductions"
   ]
  },
  {
   "attachments": {},
   "cell_type": "markdown",
   "metadata": {},
   "source": [
    "### 1.1. Overview"
   ]
  },
  {
   "attachments": {},
   "cell_type": "markdown",
   "metadata": {},
   "source": [
    "* A platform for building, running and shipping applications\n",
    "* Makes sure the application works everywhere"
   ]
  },
  {
   "attachments": {},
   "cell_type": "markdown",
   "metadata": {},
   "source": [
    "* Docker packages the application and all its dependencies together into an **image**:\n",
    "* Items included in an image:\n",
    "    * A cut down OS\n",
    "    * Third party libraries\n",
    "    * Application files\n",
    "    * Environment variables"
   ]
  },
  {
   "attachments": {},
   "cell_type": "markdown",
   "metadata": {},
   "source": [
    "### 1.2. Containers VS Virtual Machines"
   ]
  },
  {
   "attachments": {},
   "cell_type": "markdown",
   "metadata": {},
   "source": [
    "* A container is an isolated environment for running and image\n",
    "* A container is a process that communicate with the Docker Engine (server) using REST-API\n",
    "* Each container has its own write layers\n",
    "    * Containers does not share their files together unless told so"
   ]
  },
  {
   "attachments": {},
   "cell_type": "markdown",
   "metadata": {},
   "source": [
    "* Virtual machine is a computer file or software usually termed as guest or an image that is created withing an OS called host\n",
    "* Virtual machines require the allocation of the host's resources to be run\n",
    "* Hypervisors are softwares that create and manage virtual machines\n",
    "    * They act as an intermediary between the machine and OS instance"
   ]
  },
  {
   "attachments": {},
   "cell_type": "markdown",
   "metadata": {},
   "source": [
    "* Docker containers can run multiple applications over a single OS kernel\n",
    "* Virtual machines are needed if the application or service requires to run on different OSs"
   ]
  },
  {
   "attachments": {},
   "cell_type": "markdown",
   "metadata": {},
   "source": [
    "# 2. Installing Docker"
   ]
  },
  {
   "attachments": {},
   "cell_type": "markdown",
   "metadata": {},
   "source": [
    "* Uninstall docker"
   ]
  },
  {
   "cell_type": "code",
   "execution_count": 1,
   "metadata": {},
   "outputs": [],
   "source": [
    "# sudo apt-get remove docker docker-engine docker.io containerd runc"
   ]
  },
  {
   "attachments": {},
   "cell_type": "markdown",
   "metadata": {},
   "source": [
    "* Update apt and install required packages"
   ]
  },
  {
   "cell_type": "code",
   "execution_count": 2,
   "metadata": {},
   "outputs": [],
   "source": [
    "# sudo apt-get update"
   ]
  },
  {
   "cell_type": "code",
   "execution_count": 3,
   "metadata": {},
   "outputs": [],
   "source": [
    "# sudo apt-get install ca-certificates curl gnupg lsb-release"
   ]
  },
  {
   "attachments": {},
   "cell_type": "markdown",
   "metadata": {},
   "source": [
    "* Adding docker's official GPG key"
   ]
  },
  {
   "cell_type": "code",
   "execution_count": 4,
   "metadata": {},
   "outputs": [],
   "source": [
    "# sudo mkdir -m 0755 -p /etc/apt/keyrings"
   ]
  },
  {
   "cell_type": "code",
   "execution_count": 5,
   "metadata": {},
   "outputs": [],
   "source": [
    "# curl -fsSL https://download.docker.com/linux/ubuntu/gpg | sudo gpg --dearmor -o /etc/apt/keyrings/docker.gpg"
   ]
  },
  {
   "attachments": {},
   "cell_type": "markdown",
   "metadata": {},
   "source": [
    "* Setting up the repository"
   ]
  },
  {
   "cell_type": "code",
   "execution_count": 6,
   "metadata": {},
   "outputs": [],
   "source": [
    "# echo \\\n",
    "#   \"deb [arch=$(dpkg --print-architecture) signed-by=/etc/apt/keyrings/docker.gpg] https://download.docker.com/linux/ubuntu \\\n",
    "#   $(lsb_release -cs) stable\" | sudo tee /etc/apt/sources.list.d/docker.list > /dev/null"
   ]
  },
  {
   "attachments": {},
   "cell_type": "markdown",
   "metadata": {},
   "source": [
    "* Install docker engine"
   ]
  },
  {
   "cell_type": "code",
   "execution_count": 7,
   "metadata": {},
   "outputs": [],
   "source": [
    "# sudo apt-get install docker-ce docker-ce-cli containerd.io docker-buildx-plugin docker-compose-plugin"
   ]
  },
  {
   "attachments": {},
   "cell_type": "markdown",
   "metadata": {},
   "source": [
    "# 3. Docker Basics"
   ]
  },
  {
   "attachments": {},
   "cell_type": "markdown",
   "metadata": {},
   "source": [
    "* Display the docker version"
   ]
  },
  {
   "cell_type": "code",
   "execution_count": 8,
   "metadata": {},
   "outputs": [],
   "source": [
    "# sudo docker version"
   ]
  },
  {
   "attachments": {},
   "cell_type": "markdown",
   "metadata": {},
   "source": [
    "* Display all the images installed"
   ]
  },
  {
   "cell_type": "code",
   "execution_count": 9,
   "metadata": {},
   "outputs": [],
   "source": [
    "# sudo docker images\n",
    "# sudo docker image ls"
   ]
  },
  {
   "attachments": {},
   "cell_type": "markdown",
   "metadata": {},
   "source": [
    "* Run an image"
   ]
  },
  {
   "cell_type": "code",
   "execution_count": 10,
   "metadata": {},
   "outputs": [],
   "source": [
    "# sudo docker run image_name\n",
    "# sudo docker run -it image_name\n",
    "# sudo docker run -it image_name sh\n",
    "# sudo docker run -it image_name bash"
   ]
  },
  {
   "attachments": {},
   "cell_type": "markdown",
   "metadata": {},
   "source": [
    "* Pull an image from ducker hub"
   ]
  },
  {
   "cell_type": "code",
   "execution_count": 11,
   "metadata": {},
   "outputs": [],
   "source": [
    "# sudo docker pull repository_name/image_name"
   ]
  },
  {
   "attachments": {},
   "cell_type": "markdown",
   "metadata": {},
   "source": [
    "* Display all the running and stopped container processes"
   ]
  },
  {
   "cell_type": "code",
   "execution_count": 12,
   "metadata": {},
   "outputs": [],
   "source": [
    "# sudo docker ps\n",
    "# sudo docker ps -a"
   ]
  },
  {
   "attachments": {},
   "cell_type": "markdown",
   "metadata": {},
   "source": [
    "* Start a stopped container using its id"
   ]
  },
  {
   "cell_type": "code",
   "execution_count": 13,
   "metadata": {},
   "outputs": [],
   "source": [
    "# sudo docker start -i container_id"
   ]
  },
  {
   "attachments": {},
   "cell_type": "markdown",
   "metadata": {},
   "source": [
    "* Interact with already running containers by creating a new session in them and executing commands "
   ]
  },
  {
   "cell_type": "code",
   "execution_count": 14,
   "metadata": {},
   "outputs": [],
   "source": [
    "# sudo docker exec -it container_id command"
   ]
  },
  {
   "attachments": {},
   "cell_type": "markdown",
   "metadata": {},
   "source": [
    "* Create a session within a running container and enter it with a custom user"
   ]
  },
  {
   "cell_type": "code",
   "execution_count": 15,
   "metadata": {},
   "outputs": [],
   "source": [
    "# sudo docker exec -it -u username container_id command"
   ]
  },
  {
   "attachments": {},
   "cell_type": "markdown",
   "metadata": {},
   "source": [
    "# 4. Dockerizing"
   ]
  },
  {
   "attachments": {},
   "cell_type": "markdown",
   "metadata": {},
   "source": [
    "### 4.1. Overview"
   ]
  },
  {
   "attachments": {},
   "cell_type": "markdown",
   "metadata": {},
   "source": [
    "* To dockerize an app, a **Dockerfile** is required\n",
    "* A Dockerfile is a plain text instructions that docker uses to package and app into an image\n",
    "* The Dockerfile should be placed in the same location as the app files"
   ]
  },
  {
   "attachments": {},
   "cell_type": "markdown",
   "metadata": {},
   "source": [
    "### 4.2. Dockerfile Instructions"
   ]
  },
  {
   "attachments": {},
   "cell_type": "markdown",
   "metadata": {},
   "source": [
    "* **FROM**: specify the base image which contains files and directories to build on top of them\n",
    "* **WORKDIR**: specify the working directory so that all the following commands will be executed in the working directory\n",
    "* **COPY**: for copying files and directories into the image\n",
    "* **ADD**: for copying files, directories, getting urls content and decompressing compressed files into the image\n",
    "* **RUN**: for executing OS commands\n",
    "* **ENV**: for settings environment variables\n",
    "* **EXPOSE**: specify the port that a container will start on\n",
    "* **USER**: specify the user that should run the app\n",
    "* **CMD**: specifying the commands to be run when a container starts\n",
    "* **ENTRYPOINT**: sames as CMD"
   ]
  },
  {
   "attachments": {},
   "cell_type": "markdown",
   "metadata": {},
   "source": [
    "* **BEST PRACTICE** The order of the Dockerfile instructions should be as follows:\n",
    "    * Stable Instructions on the top\n",
    "    * Changing Instructions on the bottom"
   ]
  },
  {
   "attachments": {},
   "cell_type": "markdown",
   "metadata": {},
   "source": [
    "### 4.3. Base Image"
   ]
  },
  {
   "attachments": {},
   "cell_type": "markdown",
   "metadata": {},
   "source": [
    "* base image can be an OS or an OS plus a runtime environment"
   ]
  },
  {
   "attachments": {},
   "cell_type": "markdown",
   "metadata": {},
   "source": [
    "* FROM python:3\n",
    "* FROM url\n",
    "* FROM node:latest -> BAD PRACTICE: do not use latest"
   ]
  },
  {
   "attachments": {},
   "cell_type": "markdown",
   "metadata": {},
   "source": [
    "### 4.4. Copying"
   ]
  },
  {
   "attachments": {},
   "cell_type": "markdown",
   "metadata": {},
   "source": [
    "* COPY from /to\n",
    "* COPY file1 file2 dir /working_directory_name/\n",
    "* COPY pattern /working_directory_name\n",
    "* COPY . /working_directory_name\n",
    "* COPY [\"hello world.py\", \"/working_directory_name\"]"
   ]
  },
  {
   "attachments": {},
   "cell_type": "markdown",
   "metadata": {},
   "source": [
    "### 4.5. Absolute, Relative Path"
   ]
  },
  {
   "attachments": {},
   "cell_type": "markdown",
   "metadata": {},
   "source": [
    "* To use relative path, specify a working directory"
   ]
  },
  {
   "cell_type": "markdown",
   "metadata": {},
   "source": [
    "* WORKDIR /working_directory_name\n",
    "* COPY . .\n",
    "* COPY . ./one"
   ]
  },
  {
   "attachments": {},
   "cell_type": "markdown",
   "metadata": {},
   "source": [
    "### 4.6. Docker Ignore"
   ]
  },
  {
   "attachments": {},
   "cell_type": "markdown",
   "metadata": {},
   "source": [
    "* To ignore files and directories when building an image:\n",
    "    * create a .dockerignore file in the same location as Dockerfile\n",
    "    * place all files and directories to be ignored it it"
   ]
  },
  {
   "attachments": {},
   "cell_type": "markdown",
   "metadata": {},
   "source": [
    "### 4.7. Running Commands"
   ]
  },
  {
   "attachments": {},
   "cell_type": "markdown",
   "metadata": {},
   "source": [
    "* One or more RUN commands can be used in Dockerfile\n",
    "* When building an image, the run commands gets executed one after the other"
   ]
  },
  {
   "attachments": {},
   "cell_type": "markdown",
   "metadata": {},
   "source": [
    "* RUN pipenv install django\n",
    "* RUN pipenv shell\n",
    "* RUN django-admin startproject config ."
   ]
  },
  {
   "attachments": {},
   "cell_type": "markdown",
   "metadata": {},
   "source": [
    "### 4.8. Environment Variables"
   ]
  },
  {
   "attachments": {},
   "cell_type": "markdown",
   "metadata": {},
   "source": [
    "* ENV variable_name=value"
   ]
  },
  {
   "attachments": {},
   "cell_type": "markdown",
   "metadata": {},
   "source": [
    "### 4.9. Exposing Ports"
   ]
  },
  {
   "attachments": {},
   "cell_type": "markdown",
   "metadata": {},
   "source": [
    "* To tell docker that a container is listening on a specific port"
   ]
  },
  {
   "attachments": {},
   "cell_type": "markdown",
   "metadata": {},
   "source": [
    "* EXPOSE 8000"
   ]
  },
  {
   "attachments": {},
   "cell_type": "markdown",
   "metadata": {},
   "source": [
    "### 4.10. Setting the User"
   ]
  },
  {
   "attachments": {},
   "cell_type": "markdown",
   "metadata": {},
   "source": [
    "* Docker runs the images with the root user that has the highest privileges\n",
    "* To prevent security holes, create a regular user with limited privileges\n",
    "* The user should be defined at the start of the Dockerfile\n",
    "    * This will prevent any not authorized access"
   ]
  },
  {
   "cell_type": "code",
   "execution_count": 1,
   "metadata": {},
   "outputs": [],
   "source": [
    "#  RUN groupadd group_name\n",
    "#  RUN useradd -S -G group_name group_name\n",
    "# USER group_name"
   ]
  },
  {
   "attachments": {},
   "cell_type": "markdown",
   "metadata": {},
   "source": [
    "### 4.11. Defining Entry Points"
   ]
  },
  {
   "attachments": {},
   "cell_type": "markdown",
   "metadata": {},
   "source": [
    "* To define a command to be executed each time a container is run\n",
    "* Only the last command line in a Dockerfile will take effect"
   ]
  },
  {
   "attachments": {},
   "cell_type": "markdown",
   "metadata": {},
   "source": [
    "* CMD npm start\n",
    "* CMD python manage.py runserver\n",
    "* CMD [\"npm\", \"start\"]\n",
    "* ENTRYPOINT npm start\n",
    "* ENTRYPOINT [\"python\", \"manage.py\", \"runserver\"]"
   ]
  },
  {
   "attachments": {},
   "cell_type": "markdown",
   "metadata": {},
   "source": [
    "* ENTRYPOINT are similar to CMD\n",
    "* The big difference is that:\n",
    "    * CMD command can be overwritten when running a container\n",
    "        * sudo docker run sh\n",
    "    * To overwrite and ENTRYPOINT command --entrypoint must be used\n",
    "        * sudo docker run --entrypoint sh"
   ]
  },
  {
   "attachments": {},
   "cell_type": "markdown",
   "metadata": {},
   "source": [
    "# 5. Regarding Images"
   ]
  },
  {
   "attachments": {},
   "cell_type": "markdown",
   "metadata": {},
   "source": [
    "### 5.1. Building"
   ]
  },
  {
   "attachments": {},
   "cell_type": "markdown",
   "metadata": {},
   "source": [
    "* to start building an image after creating a Dockerfile"
   ]
  },
  {
   "cell_type": "code",
   "execution_count": 16,
   "metadata": {},
   "outputs": [],
   "source": [
    "# sudo docker build -t image_name Dockerfile_location"
   ]
  },
  {
   "attachments": {},
   "cell_type": "markdown",
   "metadata": {},
   "source": [
    "### 5.2. Removing"
   ]
  },
  {
   "attachments": {},
   "cell_type": "markdown",
   "metadata": {},
   "source": [
    "* To remove all the unused images"
   ]
  },
  {
   "cell_type": "code",
   "execution_count": 17,
   "metadata": {},
   "outputs": [],
   "source": [
    "# sudo docker image prune"
   ]
  },
  {
   "attachments": {},
   "cell_type": "markdown",
   "metadata": {},
   "source": [
    "* To remove all the stopped containers"
   ]
  },
  {
   "cell_type": "code",
   "execution_count": 18,
   "metadata": {},
   "outputs": [],
   "source": [
    "# sudo docker container prune"
   ]
  },
  {
   "attachments": {},
   "cell_type": "markdown",
   "metadata": {},
   "source": [
    "* To remove one or more images"
   ]
  },
  {
   "cell_type": "code",
   "execution_count": 19,
   "metadata": {},
   "outputs": [],
   "source": [
    "# sudo docker image rm image_name\n",
    "# sudo docker image rm image_id\n",
    "# sudo docker image rm $(sudo docker image ls -q)"
   ]
  },
  {
   "attachments": {},
   "cell_type": "markdown",
   "metadata": {},
   "source": [
    "* Remove an image using its tag"
   ]
  },
  {
   "cell_type": "code",
   "execution_count": 20,
   "metadata": {},
   "outputs": [],
   "source": [
    "# sudo docker image rm image_name:tag"
   ]
  },
  {
   "attachments": {},
   "cell_type": "markdown",
   "metadata": {},
   "source": [
    "### 5.3. Tagging"
   ]
  },
  {
   "attachments": {},
   "cell_type": "markdown",
   "metadata": {},
   "source": [
    " * Tags are used to define the state of an image\n",
    " * Each image can have multiple tags\n",
    " * There are two ways to tag an image\n",
    "    * When building it\n",
    "    * After building it"
   ]
  },
  {
   "cell_type": "code",
   "execution_count": 21,
   "metadata": {},
   "outputs": [],
   "source": [
    "# sudo docker build -t image_name:tag Dockerfile_location"
   ]
  },
  {
   "cell_type": "code",
   "execution_count": 22,
   "metadata": {},
   "outputs": [],
   "source": [
    "# sudo docker image tag image_name:current_tag image_name:new_tag\n",
    "# sudo docker image tag image_id new_image_name:new_tag"
   ]
  },
  {
   "attachments": {},
   "cell_type": "markdown",
   "metadata": {},
   "source": [
    "### 5.4. Saving and Loading Images"
   ]
  },
  {
   "attachments": {},
   "cell_type": "markdown",
   "metadata": {},
   "source": [
    "* To save the image"
   ]
  },
  {
   "cell_type": "code",
   "execution_count": 23,
   "metadata": {},
   "outputs": [],
   "source": [
    "# sudo docker image save -o output_file_name.tar image_name:tag"
   ]
  },
  {
   "attachments": {},
   "cell_type": "markdown",
   "metadata": {},
   "source": [
    "* To load a saved image"
   ]
  },
  {
   "cell_type": "code",
   "execution_count": 24,
   "metadata": {},
   "outputs": [],
   "source": [
    "# sudo docker image load -i output_file_name.tar"
   ]
  },
  {
   "attachments": {},
   "cell_type": "markdown",
   "metadata": {},
   "source": [
    "# 6. Regarding Containers"
   ]
  },
  {
   "attachments": {},
   "cell_type": "markdown",
   "metadata": {},
   "source": [
    "### 6.1. Running Containers"
   ]
  },
  {
   "attachments": {},
   "cell_type": "markdown",
   "metadata": {},
   "source": [
    "* To run an image in a container"
   ]
  },
  {
   "cell_type": "code",
   "execution_count": 25,
   "metadata": {},
   "outputs": [],
   "source": [
    "# sudo docker run image_name"
   ]
  },
  {
   "attachments": {},
   "cell_type": "markdown",
   "metadata": {},
   "source": [
    "* To run and image in a container in the background"
   ]
  },
  {
   "cell_type": "code",
   "execution_count": 26,
   "metadata": {},
   "outputs": [],
   "source": [
    "# sudo docker run -d image_name\n",
    "# sudo docker run -d --name custom_container_name image_name"
   ]
  },
  {
   "attachments": {},
   "cell_type": "markdown",
   "metadata": {},
   "source": [
    "### 6.2. Viewing Logs"
   ]
  },
  {
   "cell_type": "code",
   "execution_count": 27,
   "metadata": {},
   "outputs": [],
   "source": [
    "# sudo docker logs container_id\n",
    "# sudo docker logs custom_container_name"
   ]
  },
  {
   "attachments": {},
   "cell_type": "markdown",
   "metadata": {},
   "source": [
    "### 6.3. Publishing a Port"
   ]
  },
  {
   "attachments": {},
   "cell_type": "markdown",
   "metadata": {},
   "source": [
    "* The port defined using EXPOSE in Dockerfile is used within the image\n",
    "* To connect a container port with a host port when running an image, use the following command"
   ]
  },
  {
   "cell_type": "code",
   "execution_count": 28,
   "metadata": {},
   "outputs": [],
   "source": [
    "# sudo docker run -d -p host_port:container_port image_name"
   ]
  },
  {
   "attachments": {},
   "cell_type": "markdown",
   "metadata": {},
   "source": [
    "### 6.4. Executing Commands in Running Containers"
   ]
  },
  {
   "cell_type": "code",
   "execution_count": 2,
   "metadata": {},
   "outputs": [],
   "source": [
    "# sudo docker exec container_id command\n",
    "# sudo docker exec -it custom_container_name command\n",
    "# sudo docker exec -it --user root container_id command"
   ]
  },
  {
   "attachments": {},
   "cell_type": "markdown",
   "metadata": {},
   "source": [
    "### 6.5. Stopping and Starting Containers"
   ]
  },
  {
   "cell_type": "code",
   "execution_count": 30,
   "metadata": {},
   "outputs": [],
   "source": [
    "# sudo docker stop container_id\n",
    "# sudo docker stop custom_container_name"
   ]
  },
  {
   "cell_type": "code",
   "execution_count": 31,
   "metadata": {},
   "outputs": [],
   "source": [
    "# sudo docker start container_id\n",
    "# sudo docker start custom_container_name"
   ]
  },
  {
   "attachments": {},
   "cell_type": "markdown",
   "metadata": {},
   "source": [
    "### 6.6. Removing Containers"
   ]
  },
  {
   "cell_type": "code",
   "execution_count": 32,
   "metadata": {},
   "outputs": [],
   "source": [
    "# sudo docker container rm container_id\n",
    "# sudo docker container rm -f custom_container_name\n",
    "# sudo docker container rm $(sudo docker container ls -q)"
   ]
  },
  {
   "attachments": {},
   "cell_type": "markdown",
   "metadata": {},
   "source": [
    "# 7. Regarding Volumes"
   ]
  },
  {
   "attachments": {},
   "cell_type": "markdown",
   "metadata": {},
   "source": [
    "### 7.1. Overview"
   ]
  },
  {
   "attachments": {},
   "cell_type": "markdown",
   "metadata": {},
   "source": [
    "* Volumes are disk storage that data can be stored in them\n",
    "* These disk storages are outside of containers\n",
    "* A volume can be shared among multiple containers"
   ]
  },
  {
   "attachments": {},
   "cell_type": "markdown",
   "metadata": {},
   "source": [
    "### 7.2. Creating a volume"
   ]
  },
  {
   "cell_type": "code",
   "execution_count": 33,
   "metadata": {},
   "outputs": [],
   "source": [
    "# sudo docker volume create volume_name"
   ]
  },
  {
   "attachments": {},
   "cell_type": "markdown",
   "metadata": {},
   "source": [
    "### 7.3. Inspecting a volumes information"
   ]
  },
  {
   "cell_type": "code",
   "execution_count": 34,
   "metadata": {},
   "outputs": [],
   "source": [
    "# sudo docker volume inspect volume_name"
   ]
  },
  {
   "attachments": {},
   "cell_type": "markdown",
   "metadata": {},
   "source": [
    "### 7.4. Running a container with a volume attached to it"
   ]
  },
  {
   "attachments": {},
   "cell_type": "markdown",
   "metadata": {},
   "source": [
    "* **NOTE** if volume_name or in_container_location are not created before, they will be created when running the container"
   ]
  },
  {
   "cell_type": "code",
   "execution_count": 35,
   "metadata": {},
   "outputs": [],
   "source": [
    "# sudo docker run -d -v volume_name:absolute_path_in_container image_name"
   ]
  },
  {
   "attachments": {},
   "cell_type": "markdown",
   "metadata": {},
   "source": [
    "### 7.5. Removing a volume"
   ]
  },
  {
   "cell_type": "code",
   "execution_count": 40,
   "metadata": {},
   "outputs": [],
   "source": [
    "# sudo docker volume rm volume_name\n",
    "# sudo docker volume rm $(sudo docker volume ls -q)"
   ]
  },
  {
   "attachments": {},
   "cell_type": "markdown",
   "metadata": {},
   "source": [
    "### 7.6. Copying"
   ]
  },
  {
   "attachments": {},
   "cell_type": "markdown",
   "metadata": {},
   "source": [
    "* Copying a file or folder from a container to the host or from a host to a container"
   ]
  },
  {
   "cell_type": "code",
   "execution_count": 37,
   "metadata": {},
   "outputs": [],
   "source": [
    "# sudo docker cp container_name:file_or_folder_location destination\n",
    "# sudo docker cp source container_id:file_or_folder_location"
   ]
  },
  {
   "attachments": {},
   "cell_type": "markdown",
   "metadata": {},
   "source": [
    "* Using the copy method, a source can be mapped to a destination\n",
    "* This method can be used to automatically updated a container without building it"
   ]
  },
  {
   "cell_type": "code",
   "execution_count": 38,
   "metadata": {},
   "outputs": [],
   "source": [
    "# sudo docker run -d -p 8000:8000 -v $(pwd):destination image_name"
   ]
  },
  {
   "attachments": {},
   "cell_type": "markdown",
   "metadata": {},
   "source": [
    "* **NOTE** multiple volumes can be used when running a container"
   ]
  },
  {
   "attachments": {},
   "cell_type": "markdown",
   "metadata": {},
   "source": [
    "# 8. Multi-Container Docker Applications"
   ]
  },
  {
   "attachments": {},
   "cell_type": "markdown",
   "metadata": {},
   "source": [
    "### 8.1. Overview"
   ]
  },
  {
   "attachments": {},
   "cell_type": "markdown",
   "metadata": {},
   "source": [
    "* Compose is a tool for defining and running multi-container Docker applications.\n",
    "* With Compose, you use a YAML file to configure your application’s services.\n",
    "* Then, with a single command, you create and start all the services from your configuration."
   ]
  },
  {
   "attachments": {},
   "cell_type": "markdown",
   "metadata": {},
   "source": [
    "### 8.2. Installing"
   ]
  },
  {
   "attachments": {},
   "cell_type": "markdown",
   "metadata": {},
   "source": [
    "### 8.3. YAML format"
   ]
  },
  {
   "attachments": {},
   "cell_type": "markdown",
   "metadata": {},
   "source": [
    "* yaml or yml file syntax is similar to JSON\n",
    "* yml is slower than JSON, since extra evaluation must take place to convert values from string\n",
    "* General purpose:\n",
    "    * yml files are mostly used for configuration files\n",
    "    * JSON files are mostly used for exchanging data"
   ]
  },
  {
   "attachments": {},
   "cell_type": "markdown",
   "metadata": {},
   "source": [
    "* yaml file format is follows:"
   ]
  },
  {
   "cell_type": "code",
   "execution_count": 41,
   "metadata": {},
   "outputs": [],
   "source": [
    "# ---\n",
    "# name: Docker Handbook\n",
    "# chapters: 8\n",
    "# is_good: true\n",
    "# tags:\n",
    "    # - Docker\n",
    "    # - Handbook\n",
    "# author:\n",
    "    # first_name: Mihad\n",
    "    # last_name: Krios\n",
    "    # languages:\n",
    "        # - English\n",
    "        # - Arabic\n",
    "        # - Persian"
   ]
  },
  {
   "attachments": {},
   "cell_type": "markdown",
   "metadata": {},
   "source": [
    "### 8.4. Creating Docker Compose files"
   ]
  },
  {
   "attachments": {},
   "cell_type": "markdown",
   "metadata": {},
   "source": [
    "* Docker compose files should be named as follows:\n",
    "    * docker-compose.yml"
   ]
  },
  {
   "attachments": {},
   "cell_type": "markdown",
   "metadata": {},
   "source": [
    "* Configuring Docker Compose File"
   ]
  },
  {
   "cell_type": "code",
   "execution_count": 48,
   "metadata": {},
   "outputs": [],
   "source": [
    "# version: compatible docker-compose version with docker version wrapped in double quotes\n",
    "# services: defining various building blocks or services of the application\n",
    "    # frontend_service_name:\n",
    "        # build: location to the frontend's Dockerfile\n",
    "        # ports:\n",
    "            # - host_port:container_port\n",
    "    # backend_service_name:\n",
    "        # build: location to the backend's Dockerfile\n",
    "        # ports:\n",
    "            # - host_port:container_port\n",
    "        # environment:\n",
    "            # ENV_VAR: value\n",
    "    # database_service_name:\n",
    "        # image: image name to be pulled from docker hub\n",
    "        # ports:\n",
    "            # - host_port:database_port\n",
    "        # volumes:\n",
    "            # - volume_name:absolute_path\n",
    "# volumes:\n",
    "    # volume_name:"
   ]
  }
 ],
 "metadata": {
  "kernelspec": {
   "display_name": "Python 3",
   "language": "python",
   "name": "python3"
  },
  "language_info": {
   "codemirror_mode": {
    "name": "ipython",
    "version": 3
   },
   "file_extension": ".py",
   "mimetype": "text/x-python",
   "name": "python",
   "nbconvert_exporter": "python",
   "pygments_lexer": "ipython3",
   "version": "3.10.6"
  },
  "orig_nbformat": 4,
  "vscode": {
   "interpreter": {
    "hash": "916dbcbb3f70747c44a77c7bcd40155683ae19c65e1c03b4aa3499c5328201f1"
   }
  }
 },
 "nbformat": 4,
 "nbformat_minor": 2
}
